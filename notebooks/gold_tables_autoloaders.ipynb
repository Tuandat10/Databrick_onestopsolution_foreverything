{
 "cells": [
  {
   "cell_type": "code",
   "execution_count": 0,
   "metadata": {
    "application/vnd.databricks.v1+cell": {
     "cellMetadata": {
      "byteLimit": 2048000,
      "rowLimit": 10000
     },
     "inputWidgets": {},
     "nuid": "9f3b96fb-6c8f-48c5-bcb7-9a04bac43918",
     "showTitle": false,
     "tableResultSettingsMap": {},
     "title": ""
    }
   },
   "outputs": [],
   "source": [
    "from pyspark.sql.functions import *\n",
    "from delta.tables import *"
   ]
  },
  {
   "cell_type": "code",
   "execution_count": 0,
   "metadata": {
    "application/vnd.databricks.v1+cell": {
     "cellMetadata": {
      "byteLimit": 2048000,
      "rowLimit": 10000
     },
     "inputWidgets": {},
     "nuid": "6d44a282-fa1f-4ed5-b2a1-52c9bbc6d84f",
     "showTitle": false,
     "tableResultSettingsMap": {},
     "title": ""
    }
   },
   "outputs": [],
   "source": [
    "dbutils.widgets.text('folder_name','')"
   ]
  },
  {
   "cell_type": "code",
   "execution_count": 0,
   "metadata": {
    "application/vnd.databricks.v1+cell": {
     "cellMetadata": {
      "byteLimit": 2048000,
      "rowLimit": 10000
     },
     "inputWidgets": {},
     "nuid": "5200f848-b3ed-48d9-977e-e57969ecad19",
     "showTitle": false,
     "tableResultSettingsMap": {},
     "title": ""
    }
   },
   "outputs": [],
   "source": [
    "folder_name = dbutils.widgets.get('folder_name')"
   ]
  },
  {
   "cell_type": "code",
   "execution_count": 0,
   "metadata": {
    "application/vnd.databricks.v1+cell": {
     "cellMetadata": {
      "byteLimit": 2048000,
      "rowLimit": 10000
     },
     "inputWidgets": {},
     "nuid": "e91b1d30-4be0-44f3-9743-83c057c4660c",
     "showTitle": false,
     "tableResultSettingsMap": {},
     "title": ""
    }
   },
   "outputs": [
    {
     "output_type": "execute_result",
     "data": {
      "text/plain": [
       "'factsales/'"
      ]
     },
     "execution_count": 87,
     "metadata": {},
     "output_type": "execute_result"
    }
   ],
   "source": [
    "folder_name"
   ]
  },
  {
   "cell_type": "code",
   "execution_count": 0,
   "metadata": {
    "application/vnd.databricks.v1+cell": {
     "cellMetadata": {
      "byteLimit": 2048000,
      "rowLimit": 10000
     },
     "inputWidgets": {},
     "nuid": "263b12a7-bf2a-4b6a-8e73-1638a8826b48",
     "showTitle": false,
     "tableResultSettingsMap": {},
     "title": ""
    }
   },
   "outputs": [],
   "source": [
    "df = spark.readStream.format('delta')\\\n",
    "    .load(f'abfss://silver@osspstorageaccount.dfs.core.windows.net/{folder_name}')\n"
   ]
  },
  {
   "cell_type": "code",
   "execution_count": 0,
   "metadata": {
    "application/vnd.databricks.v1+cell": {
     "cellMetadata": {
      "byteLimit": 2048000,
      "rowLimit": 10000
     },
     "inputWidgets": {},
     "nuid": "9e70a51b-bfc1-4348-9087-bee17db6a3c0",
     "showTitle": false,
     "tableResultSettingsMap": {},
     "title": ""
    }
   },
   "outputs": [],
   "source": [
    "def merge_to_target(micro_batch_df: DataFrame, batch_id: int):\n",
    "    target_path = f\"abfss://gold@osspstorageaccount.dfs.core.windows.net/{folder_name}\"\n",
    "    merge_key = key\n",
    "\n",
    "    # 1. Check if the target Delta table exists.\n",
    "    if DeltaTable.isDeltaTable(spark, target_path):\n",
    "        target_table = DeltaTable.forPath(spark, target_path)\n",
    "        (target_table.alias(\"t\")\n",
    "            .merge(micro_batch_df.alias(\"s\"), f\"t.{merge_key} = s.{merge_key}\")\n",
    "            .whenMatchedUpdateAll()\n",
    "            .whenNotMatchedInsertAll()\n",
    "            .execute()\n",
    "        )\n",
    "    else:\n",
    "        micro_batch_df.write.format(\"delta\").save(target_path)"
   ]
  },
  {
   "cell_type": "code",
   "execution_count": 0,
   "metadata": {
    "application/vnd.databricks.v1+cell": {
     "cellMetadata": {
      "byteLimit": 2048000,
      "rowLimit": 10000
     },
     "inputWidgets": {},
     "nuid": "072a0c14-e61d-4605-aea5-acd19e46fa43",
     "showTitle": false,
     "tableResultSettingsMap": {},
     "title": ""
    }
   },
   "outputs": [],
   "source": [
    "if folder_name == 'customer/':\n",
    "    key = 'CustomerKey'\n",
    "    df = df.withColumn('sg_customerkey',(unix_timestamp(col('updated_at'))* 1000000) +col('CustomerKey'))\n",
    "    df_customer = spark.read.format('delta').load(f'abfss://silver@osspstorageaccount.dfs.core.windows.net/customer')\n"
   ]
  },
  {
   "cell_type": "code",
   "execution_count": 0,
   "metadata": {
    "application/vnd.databricks.v1+cell": {
     "cellMetadata": {
      "byteLimit": 2048000,
      "rowLimit": 10000
     },
     "inputWidgets": {},
     "nuid": "f8431322-abdb-4e32-9537-23a8cb2b51f6",
     "showTitle": false,
     "tableResultSettingsMap": {},
     "title": ""
    }
   },
   "outputs": [],
   "source": [
    "if folder_name == 'date/':\n",
    "    key = 'DateKey'\n",
    "    df = df.withColumn('sg_datekey',(unix_timestamp(col('updated_at')) * 1000000) + col('DateKey'))"
   ]
  },
  {
   "cell_type": "code",
   "execution_count": 0,
   "metadata": {
    "application/vnd.databricks.v1+cell": {
     "cellMetadata": {
      "byteLimit": 2048000,
      "rowLimit": 10000
     },
     "inputWidgets": {},
     "nuid": "edb57cb8-5336-416e-a078-d156d14aa078",
     "showTitle": false,
     "tableResultSettingsMap": {},
     "title": ""
    }
   },
   "outputs": [],
   "source": [
    "if folder_name == 'paymentmethod/':\n",
    "    key = 'PaymentKey'\n",
    "    df = df.withColumn('sg_paymentmethodkey',(unix_timestamp(col('updated_at'))*1000000) + col('PaymentKey'))"
   ]
  },
  {
   "cell_type": "code",
   "execution_count": 0,
   "metadata": {
    "application/vnd.databricks.v1+cell": {
     "cellMetadata": {
      "byteLimit": 2048000,
      "rowLimit": 10000
     },
     "inputWidgets": {},
     "nuid": "c378e099-b95c-4ef9-84ab-f4631f50bd35",
     "showTitle": false,
     "tableResultSettingsMap": {},
     "title": ""
    }
   },
   "outputs": [],
   "source": [
    "if folder_name == 'product/':\n",
    "    key = 'ProductKey'\n",
    "    df = df.withColumn('sg_productkey',(unix_timestamp(col('updated_at'))*1000000) + col('ProductKey'))"
   ]
  },
  {
   "cell_type": "code",
   "execution_count": 0,
   "metadata": {
    "application/vnd.databricks.v1+cell": {
     "cellMetadata": {
      "byteLimit": 2048000,
      "rowLimit": 10000
     },
     "inputWidgets": {},
     "nuid": "1d44d6c4-5a67-4b48-a2d9-403c075723c1",
     "showTitle": false,
     "tableResultSettingsMap": {},
     "title": ""
    }
   },
   "outputs": [],
   "source": [
    "if folder_name == 'promotion/':\n",
    "    key = 'PromotionKey'\n",
    "    df = df.withColumn('sg_promotionkey',(unix_timestamp(col('updated_at'))*1000000) + col('PromotionKey'))\n"
   ]
  },
  {
   "cell_type": "code",
   "execution_count": 0,
   "metadata": {
    "application/vnd.databricks.v1+cell": {
     "cellMetadata": {
      "byteLimit": 2048000,
      "rowLimit": 10000
     },
     "inputWidgets": {},
     "nuid": "7570e0b6-9f1d-4a9a-af9f-046554073706",
     "showTitle": false,
     "tableResultSettingsMap": {},
     "title": ""
    }
   },
   "outputs": [],
   "source": [
    "if folder_name == 'region/':\n",
    "    key = 'RegionKey'\n",
    "    df = df.withColumn('sg_regionkey',(unix_timestamp(col('updated_at'))*1000000) + col('RegionKey'))"
   ]
  },
  {
   "cell_type": "code",
   "execution_count": 0,
   "metadata": {
    "application/vnd.databricks.v1+cell": {
     "cellMetadata": {
      "byteLimit": 2048000,
      "rowLimit": 10000
     },
     "inputWidgets": {},
     "nuid": "1926a81c-fa94-4429-979a-be7d1f006248",
     "showTitle": false,
     "tableResultSettingsMap": {},
     "title": ""
    }
   },
   "outputs": [],
   "source": [
    "if folder_name == 'shippingmethod/':\n",
    "    key = 'ShippingKey'\n",
    "    df = df.withColumn('sg_shippingmethodkey',(unix_timestamp(col('updated_at'))*1000000) + col('ShippingKey'))"
   ]
  },
  {
   "cell_type": "code",
   "execution_count": 0,
   "metadata": {
    "application/vnd.databricks.v1+cell": {
     "cellMetadata": {
      "byteLimit": 2048000,
      "rowLimit": 10000
     },
     "inputWidgets": {},
     "nuid": "271ec343-57c0-4a78-a4b2-799a9778b8f1",
     "showTitle": false,
     "tableResultSettingsMap": {},
     "title": ""
    }
   },
   "outputs": [],
   "source": [
    "if folder_name != 'factsales/':\n",
    "    df.writeStream\\\n",
    "        .format('delta')\\\n",
    "        .foreachBatch(merge_to_target)\\\n",
    "        .outputMode('update')\\\n",
    "        .option('checkpointLocation', f'abfss://gold@osspstorageaccount.dfs.core.windows.net/checkpoints/{folder_name}')\\\n",
    "        .trigger(once=True).start()\n",
    "else:\n",
    "    if DeltaTable.isDeltaTable(spark, 'abfss://gold@osspstorageaccount.dfs.core.windows.net/customer') and DeltaTable.isDeltaTable(spark,'abfss://gold@osspstorageaccount.dfs.core.windows.net/date') and DeltaTable.isDeltaTable(spark,'abfss://gold@osspstorageaccount.dfs.core.windows.net/paymentmethod') and DeltaTable.isDeltaTable(spark,'abfss://gold@osspstorageaccount.dfs.core.windows.net/product') and DeltaTable.isDeltaTable(spark,'abfss://gold@osspstorageaccount.dfs.core.windows.net/promotion') and DeltaTable.isDeltaTable(spark,'abfss://gold@osspstorageaccount.dfs.core.windows.net/region') and DeltaTable.isDeltaTable(spark,'abfss://gold@osspstorageaccount.dfs.core.windows.net/shippingmethod'):\n",
    "        dim_customer = spark.read.format('delta').load(f'abfss://gold@osspstorageaccount.dfs.core.windows.net/customer')\n",
    "        dim_date = spark.read.format('delta').load(f'abfss://gold@osspstorageaccount.dfs.core.windows.net/date')\n",
    "        dim_paymentmethod = spark.read.format('delta').load(f'abfss://gold@osspstorageaccount.dfs.core.windows.net/paymentmethod')\n",
    "        dim_product = spark.read.format('delta').load(f'abfss://gold@osspstorageaccount.dfs.core.windows.net/product')\n",
    "        dim_promotion = spark.read.format('delta').load(f'abfss://gold@osspstorageaccount.dfs.core.windows.net/promotion')\n",
    "        dim_region = spark.read.format('delta').load(f'abfss://gold@osspstorageaccount.dfs.core.windows.net/region')\n",
    "        dim_shippingmethod = spark.read.format('delta').load(f'abfss://gold@osspstorageaccount.dfs.core.windows.net/shippingmethod')\n",
    "        df = (\n",
    "        df\n",
    "        .join(dim_customer, df.CustomerKey == dim_customer.CustomerKey, 'left')\n",
    "        .join(dim_date, df.DateKey == dim_date.DateKey, 'left')\n",
    "        .join(dim_paymentmethod, df.PaymentKey == dim_paymentmethod.PaymentKey, 'left')\n",
    "        .join(dim_product, df.ProductKey == dim_product.ProductKey, 'left')\n",
    "        .join(dim_promotion, df.PromotionKey == dim_promotion.PromotionKey, 'left')\n",
    "        .join(dim_region, df.RegionKey == dim_region.RegionKey, 'left')\n",
    "        .join(dim_shippingmethod, df.ShippingKey == dim_shippingmethod.ShippingKey, 'left')\n",
    "    )\n",
    "        df = df.select('SalesKey','sg_customerkey','sg_datekey','sg_paymentmethodkey','sg_productkey','sg_promotionkey','sg_regionkey','sg_shippingmethodkey','Quantity','UnitPrice','TotalRevenue')\n",
    "        df = df.withColumnRenamed('SalesKey','sg_saleskey').withColumnRenamed('Quantity','quantity').withColumnRenamed('UnitPrice','unitprice').withColumnRenamed('TotalRevenue','totalrevenue')\n",
    "        df.writeStream\\\n",
    "            .format('delta')\\\n",
    "            .outputMode('append')\\\n",
    "            .option('checkpointLocation', f'abfss://gold@osspstorageaccount.dfs.core.windows.net/checkpoints/{folder_name}')\\\n",
    "            .trigger(once=True).start('abfss://gold@osspstorageaccount.dfs.core.windows.net/factsales')"
   ]
  },
  {
   "cell_type": "code",
   "execution_count": 0,
   "metadata": {
    "application/vnd.databricks.v1+cell": {
     "cellMetadata": {
      "byteLimit": 2048000,
      "rowLimit": 10000
     },
     "inputWidgets": {},
     "nuid": "1baa90a7-31d5-4bc9-bcee-dc08a9d5376b",
     "showTitle": false,
     "tableResultSettingsMap": {},
     "title": ""
    }
   },
   "outputs": [],
   "source": []
  }
 ],
 "metadata": {
  "application/vnd.databricks.v1+notebook": {
   "computePreferences": null,
   "dashboards": [],
   "environmentMetadata": {
    "base_environment": "",
    "environment_version": "2"
   },
   "inputWidgetPreferences": null,
   "language": "python",
   "notebookMetadata": {
    "pythonIndentUnit": 4
   },
   "notebookName": "gold_tables_autoloaders",
   "widgets": {
    "folder_name": {
     "currentValue": "factsales/",
     "nuid": "099ec00d-9cd0-40f3-b4c7-1aa6b93b525f",
     "typedWidgetInfo": {
      "autoCreated": false,
      "defaultValue": "",
      "label": null,
      "name": "folder_name",
      "options": {
       "widgetDisplayType": "Text",
       "validationRegex": null
      },
      "parameterDataType": "String"
     },
     "widgetInfo": {
      "widgetType": "text",
      "defaultValue": "",
      "label": null,
      "name": "folder_name",
      "options": {
       "widgetType": "text",
       "autoCreated": null,
       "validationRegex": null
      }
     }
    }
   }
  },
  "language_info": {
   "name": "python"
  }
 },
 "nbformat": 4,
 "nbformat_minor": 0
}