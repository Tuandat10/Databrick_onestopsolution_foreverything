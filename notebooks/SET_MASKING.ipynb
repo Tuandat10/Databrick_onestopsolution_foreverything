{
 "cells": [
  {
   "cell_type": "code",
   "execution_count": 0,
   "metadata": {
    "application/vnd.databricks.v1+cell": {
     "cellMetadata": {
      "byteLimit": 2048000,
      "rowLimit": 10000
     },
     "inputWidgets": {},
     "nuid": "c13c0a68-cab8-4dd9-b470-304c67d82555",
     "showTitle": false,
     "tableResultSettingsMap": {},
     "title": ""
    }
   },
   "outputs": [],
   "source": [
    "CREATE OR REPLACE FUNCTION metacatalog.goldschema.set_mask(p_values STRING)\n",
    "RETURN\n",
    "CASE WHEN is_account_group_member('admins') THEN p_values ELSE '****' END;"
   ]
  },
  {
   "cell_type": "code",
   "execution_count": 0,
   "metadata": {
    "application/vnd.databricks.v1+cell": {
     "cellMetadata": {
      "byteLimit": 2048000,
      "rowLimit": 10000
     },
     "inputWidgets": {},
     "nuid": "015632eb-221f-4b03-8d60-d882fd998efa",
     "showTitle": false,
     "tableResultSettingsMap": {},
     "title": ""
    }
   },
   "outputs": [],
   "source": [
    "ALTER TABLE metacatalog.goldschema.dim_customer\n",
    "ALTER COLUMN Name SET MASK metacatalog.goldschema.set_mask;"
   ]
  },
  {
   "cell_type": "code",
   "execution_count": 0,
   "metadata": {
    "application/vnd.databricks.v1+cell": {
     "cellMetadata": {
      "byteLimit": 2048000,
      "rowLimit": 10000
     },
     "inputWidgets": {},
     "nuid": "92c806ed-c1cb-40e1-bd9a-09ec2a0bd523",
     "showTitle": false,
     "tableResultSettingsMap": {},
     "title": ""
    }
   },
   "outputs": [],
   "source": [
    "ALTER TABLE metacatalog.goldschema.dim_customer\n",
    "ALTER COLUMN Gender SET MASK metacatalog.goldschema.set_mask;"
   ]
  },
  {
   "cell_type": "code",
   "execution_count": 0,
   "metadata": {
    "application/vnd.databricks.v1+cell": {
     "cellMetadata": {
      "byteLimit": 2048000,
      "rowLimit": 10000
     },
     "inputWidgets": {},
     "nuid": "2310822f-44ad-4667-b95a-4b91cbce3d72",
     "showTitle": false,
     "tableResultSettingsMap": {},
     "title": ""
    }
   },
   "outputs": [],
   "source": [
    "ALTER TABLE metacatalog.goldschema.dim_customer\n",
    "ALTER COLUMN Age SET MASK metacatalog.goldschema.set_mask;"
   ]
  },
  {
   "cell_type": "code",
   "execution_count": 0,
   "metadata": {
    "application/vnd.databricks.v1+cell": {
     "cellMetadata": {
      "byteLimit": 2048000,
      "rowLimit": 10000
     },
     "inputWidgets": {},
     "nuid": "59811b92-6c69-4688-9f2c-ac9e442f7e77",
     "showTitle": false,
     "tableResultSettingsMap": {},
     "title": ""
    }
   },
   "outputs": [
    {
     "output_type": "display_data",
     "data": {
      "text/html": [
       "<style scoped>\n",
       "  .table-result-container {\n",
       "    max-height: 300px;\n",
       "    overflow: auto;\n",
       "  }\n",
       "  table, th, td {\n",
       "    border: 1px solid black;\n",
       "    border-collapse: collapse;\n",
       "  }\n",
       "  th, td {\n",
       "    padding: 5px;\n",
       "  }\n",
       "  th {\n",
       "    text-align: left;\n",
       "  }\n",
       "</style><div class='table-result-container'><table class='table-result'><thead style='background-color: white'><tr><th>CustomerKey</th><th>Name</th><th>Gender</th><th>Age</th><th>Country</th><th>_rescued_data</th><th>sg_customerkey</th><th>updated_at</th></tr></thead><tbody><tr><td>101</td><td>NORMA FISHER</td><td>F</td><td>62</td><td>Iraq</td><td>null</td><td>1749964629000101</td><td>2025-06-15T05:17:09.683Z</td></tr><tr><td>102</td><td>JORGE SULLIVAN</td><td>F</td><td>65</td><td>North Macedonia</td><td>null</td><td>1749964629000102</td><td>2025-06-15T05:17:09.683Z</td></tr><tr><td>103</td><td>ELIZABETH WOODS</td><td>M</td><td>18</td><td>Croatia</td><td>null</td><td>1749964629000103</td><td>2025-06-15T05:17:09.683Z</td></tr><tr><td>104</td><td>SUSAN WAGNER</td><td>M</td><td>21</td><td>Bermuda</td><td>null</td><td>1749964629000104</td><td>2025-06-15T05:17:09.683Z</td></tr><tr><td>105</td><td>PETER MONTGOMERY</td><td>F</td><td>21</td><td>Israel</td><td>null</td><td>1749964629000105</td><td>2025-06-15T05:17:09.683Z</td></tr></tbody></table></div>"
      ]
     },
     "metadata": {
      "application/vnd.databricks.v1+output": {
       "addedWidgets": {},
       "aggData": [],
       "aggError": "",
       "aggOverflow": false,
       "aggSchema": [],
       "aggSeriesLimitReached": false,
       "aggType": "",
       "arguments": {},
       "columnCustomDisplayInfos": {},
       "data": [
        [
         101,
         "NORMA FISHER",
         "F",
         62,
         "Iraq",
         null,
         1749964629000101,
         "2025-06-15T05:17:09.683Z"
        ],
        [
         102,
         "JORGE SULLIVAN",
         "F",
         65,
         "North Macedonia",
         null,
         1749964629000102,
         "2025-06-15T05:17:09.683Z"
        ],
        [
         103,
         "ELIZABETH WOODS",
         "M",
         18,
         "Croatia",
         null,
         1749964629000103,
         "2025-06-15T05:17:09.683Z"
        ],
        [
         104,
         "SUSAN WAGNER",
         "M",
         21,
         "Bermuda",
         null,
         1749964629000104,
         "2025-06-15T05:17:09.683Z"
        ],
        [
         105,
         "PETER MONTGOMERY",
         "F",
         21,
         "Israel",
         null,
         1749964629000105,
         "2025-06-15T05:17:09.683Z"
        ]
       ],
       "datasetInfos": [
        {
         "name": "_sqldf",
         "schema": {
          "fields": [
           {
            "metadata": {},
            "name": "CustomerKey",
            "nullable": true,
            "type": "long"
           },
           {
            "metadata": {},
            "name": "Name",
            "nullable": true,
            "type": "string"
           },
           {
            "metadata": {},
            "name": "Gender",
            "nullable": true,
            "type": "string"
           },
           {
            "metadata": {},
            "name": "Age",
            "nullable": true,
            "type": "long"
           },
           {
            "metadata": {},
            "name": "Country",
            "nullable": true,
            "type": "string"
           },
           {
            "metadata": {},
            "name": "_rescued_data",
            "nullable": true,
            "type": "string"
           },
           {
            "metadata": {},
            "name": "sg_customerkey",
            "nullable": true,
            "type": "long"
           },
           {
            "metadata": {},
            "name": "updated_at",
            "nullable": true,
            "type": "timestamp"
           }
          ],
          "type": "struct"
         },
         "tableIdentifier": null,
         "typeStr": "pyspark.sql.connect.dataframe.DataFrame"
        }
       ],
       "dbfsResultPath": null,
       "isJsonSchema": true,
       "metadata": {
        "createTempViewForImplicitDf": true,
        "dataframeName": "_sqldf",
        "executionCount": 2
       },
       "overflow": false,
       "plotOptions": {
        "customPlotOptions": {},
        "displayType": "table",
        "pivotAggregation": null,
        "pivotColumns": null,
        "xColumns": null,
        "yColumns": null
       },
       "removedWidgets": [],
       "schema": [
        {
         "metadata": "{}",
         "name": "CustomerKey",
         "type": "\"long\""
        },
        {
         "metadata": "{}",
         "name": "Name",
         "type": "\"string\""
        },
        {
         "metadata": "{}",
         "name": "Gender",
         "type": "\"string\""
        },
        {
         "metadata": "{}",
         "name": "Age",
         "type": "\"long\""
        },
        {
         "metadata": "{}",
         "name": "Country",
         "type": "\"string\""
        },
        {
         "metadata": "{}",
         "name": "_rescued_data",
         "type": "\"string\""
        },
        {
         "metadata": "{}",
         "name": "sg_customerkey",
         "type": "\"long\""
        },
        {
         "metadata": "{}",
         "name": "updated_at",
         "type": "\"timestamp\""
        }
       ],
       "type": "table"
      }
     },
     "output_type": "display_data"
    }
   ],
   "source": [
    "SELECT * FROM metacatalog.goldschema.dim_customer limit 5"
   ]
  },
  {
   "cell_type": "code",
   "execution_count": 0,
   "metadata": {
    "application/vnd.databricks.v1+cell": {
     "cellMetadata": {},
     "inputWidgets": {},
     "nuid": "39d06acb-ea3c-4ba9-90a7-845db0709645",
     "showTitle": false,
     "tableResultSettingsMap": {},
     "title": ""
    }
   },
   "outputs": [],
   "source": []
  }
 ],
 "metadata": {
  "application/vnd.databricks.v1+notebook": {
   "computePreferences": null,
   "dashboards": [],
   "environmentMetadata": {
    "base_environment": "",
    "environment_version": "2"
   },
   "inputWidgetPreferences": null,
   "language": "sql",
   "notebookMetadata": {
    "pythonIndentUnit": 4
   },
   "notebookName": "SET_MASKING",
   "widgets": {}
  },
  "language_info": {
   "name": "sql"
  }
 },
 "nbformat": 4,
 "nbformat_minor": 0
}