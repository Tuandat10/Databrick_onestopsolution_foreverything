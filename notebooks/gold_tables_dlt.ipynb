{
 "cells": [
  {
   "cell_type": "code",
   "execution_count": 0,
   "metadata": {
    "application/vnd.databricks.v1+cell": {
     "cellMetadata": {},
     "inputWidgets": {},
     "nuid": "c23f774d-55af-40ad-a6a8-2ca5aac199c3",
     "showTitle": false,
     "tableResultSettingsMap": {},
     "title": ""
    }
   },
   "outputs": [],
   "source": [
    "from pyspark.sql.functions import *\n",
    "from pyspark.sql.types import *\n",
    "import dlt"
   ]
  },
  {
   "cell_type": "code",
   "execution_count": 0,
   "metadata": {
    "application/vnd.databricks.v1+cell": {
     "cellMetadata": {},
     "inputWidgets": {},
     "nuid": "2cbd6105-16db-43f7-a5f5-4596211d486b",
     "showTitle": false,
     "tableResultSettingsMap": {},
     "title": ""
    }
   },
   "outputs": [],
   "source": [
    "@dlt.table(\n",
    "    name = 'customer_stagging_table',\n",
    "    table_properties = {\n",
    "        'location': 'abfss://gold@osspstorageaccount.dfs.core.windows.net/stagging_table/customer_stagging_table'\n",
    "    } \n",
    ")\n",
    "\n",
    "def customer_stagging_table():\n",
    "    df = spark.readStream.format('delta')\\\n",
    "        .load('abfss://silver@osspstorageaccount.dfs.core.windows.net/customer')\n",
    "    return df"
   ]
  },
  {
   "cell_type": "code",
   "execution_count": 0,
   "metadata": {
    "application/vnd.databricks.v1+cell": {
     "cellMetadata": {},
     "inputWidgets": {},
     "nuid": "abaa4b5b-7da1-4b2a-96c4-7e6e5877e6ec",
     "showTitle": false,
     "tableResultSettingsMap": {},
     "title": ""
    }
   },
   "outputs": [],
   "source": [
    "@dlt.table(\n",
    "    name = 'date_stagging_table',\n",
    "    table_properties = {\n",
    "        'location': 'abfss://gold@osspstorageaccount.dfs.core.windows.net/stagging_table/date_stagging_table'\n",
    "    } \n",
    ")\n",
    "\n",
    "def date_stagging_table():\n",
    "    df = spark.readStream.format('delta')\\\n",
    "        .load('abfss://silver@osspstorageaccount.dfs.core.windows.net/date')\n",
    "    return df"
   ]
  },
  {
   "cell_type": "code",
   "execution_count": 0,
   "metadata": {
    "application/vnd.databricks.v1+cell": {
     "cellMetadata": {},
     "inputWidgets": {},
     "nuid": "721e2d06-2e62-4f57-9dc6-c3f127dbad70",
     "showTitle": false,
     "tableResultSettingsMap": {},
     "title": ""
    }
   },
   "outputs": [],
   "source": [
    "@dlt.table(\n",
    "    name = 'paymentmethod_stagging_table',\n",
    "    table_properties = {\n",
    "        'location': 'abfss://gold@osspstorageaccount.dfs.core.windows.net/stagging_table/paymentmethod_stagging_table'\n",
    "    } \n",
    ")\n",
    "\n",
    "def paymentmethod_stagging_table():\n",
    "    df = spark.readStream.format('delta')\\\n",
    "        .load('abfss://silver@osspstorageaccount.dfs.core.windows.net/paymentmethod')\n",
    "    return df"
   ]
  },
  {
   "cell_type": "code",
   "execution_count": 0,
   "metadata": {
    "application/vnd.databricks.v1+cell": {
     "cellMetadata": {},
     "inputWidgets": {},
     "nuid": "be6a1d8f-0ec0-4d9d-af7b-7fe2f2dcb08a",
     "showTitle": false,
     "tableResultSettingsMap": {},
     "title": ""
    }
   },
   "outputs": [],
   "source": [
    "@dlt.table(\n",
    "    name = 'product_stagging_table',\n",
    "    table_properties = {\n",
    "        'location': 'abfss://gold@osspstorageaccount.dfs.core.windows.net/stagging_table/product_stagging_table'\n",
    "    } \n",
    ")\n",
    "\n",
    "def product_stagging_table():\n",
    "    df = spark.readStream.format('delta').load('abfss://silver@osspstorageaccount.dfs.core.windows.net/product')\n",
    "    return df"
   ]
  },
  {
   "cell_type": "code",
   "execution_count": 0,
   "metadata": {
    "application/vnd.databricks.v1+cell": {
     "cellMetadata": {},
     "inputWidgets": {},
     "nuid": "df4f4950-ce0b-43ae-b218-f514d614f7fe",
     "showTitle": false,
     "tableResultSettingsMap": {},
     "title": ""
    }
   },
   "outputs": [],
   "source": [
    "@dlt.table(\n",
    "    name = 'promotion_stagging_table',\n",
    "    table_properties = {\n",
    "        'location': 'abfss://gold@osspstorageaccount.dfs.core.windows.net/stagging_table/promotion_stagging_table'\n",
    "    } \n",
    ")\n",
    "def promotion_stagging_table():\n",
    "    df = spark.readStream.format('delta').load('abfss://silver@osspstorageaccount.dfs.core.windows.net/promotion')\n",
    "    return df"
   ]
  },
  {
   "cell_type": "code",
   "execution_count": 0,
   "metadata": {
    "application/vnd.databricks.v1+cell": {
     "cellMetadata": {},
     "inputWidgets": {},
     "nuid": "cfd07dcb-837e-4446-80a5-68c9a25d3d60",
     "showTitle": false,
     "tableResultSettingsMap": {},
     "title": ""
    }
   },
   "outputs": [],
   "source": [
    "@dlt.table(\n",
    "    name = 'region_stagging_table',\n",
    "    table_properties = {\n",
    "        'location': 'abfss://gold@osspstorageaccount.dfs.core.windows.net/stagging_table/region_stagging_table'\n",
    "    } \n",
    ")\n",
    "\n",
    "def region_stagging_table():\n",
    "    df = spark.readStream.format('delta').load('abfss://silver@osspstorageaccount.dfs.core.windows.net/region')\n",
    "    return df"
   ]
  },
  {
   "cell_type": "code",
   "execution_count": 0,
   "metadata": {
    "application/vnd.databricks.v1+cell": {
     "cellMetadata": {},
     "inputWidgets": {},
     "nuid": "1f1cd255-34c4-43ea-9e3d-6fb7cff8c48c",
     "showTitle": false,
     "tableResultSettingsMap": {},
     "title": ""
    }
   },
   "outputs": [],
   "source": [
    "@dlt.table(\n",
    "    name = 'shippingmethod_stagging_table',\n",
    "    table_properties = {\n",
    "        'location': 'abfss://gold@osspstorageaccount.dfs.core.windows.net/stagging_table/shippingmethod_stagging_table'\n",
    "    } \n",
    ")\n",
    "\n",
    "def shippingmethod_stagging_table():\n",
    "    df = spark.readStream.format('delta').load('abfss://silver@osspstorageaccount.dfs.core.windows.net/shippingmethod')\n",
    "    return df"
   ]
  },
  {
   "cell_type": "code",
   "execution_count": 0,
   "metadata": {
    "application/vnd.databricks.v1+cell": {
     "cellMetadata": {},
     "inputWidgets": {},
     "nuid": "ba632efb-b723-444a-a4b8-8e6fc6395264",
     "showTitle": false,
     "tableResultSettingsMap": {},
     "title": ""
    }
   },
   "outputs": [],
   "source": [
    "import dlt"
   ]
  },
  {
   "cell_type": "code",
   "execution_count": 0,
   "metadata": {
    "application/vnd.databricks.v1+cell": {
     "cellMetadata": {},
     "inputWidgets": {},
     "nuid": "cc5c6373-fdb2-40f9-bed4-2fce1d24454c",
     "showTitle": false,
     "tableResultSettingsMap": {},
     "title": ""
    }
   },
   "outputs": [],
   "source": [
    "@dlt.view(\n",
    "    name = 'dim_customer_transformation',\n",
    ")\n",
    "def dim_customer_transformation():\n",
    "    df = spark.readStream.table('customer_stagging_table')\n",
    "    df = df.withColumn('sg_customerkey',(unix_timestamp(col('updated_at'))* 1000000) +col('CustomerKey'))\n",
    "    return df"
   ]
  },
  {
   "cell_type": "code",
   "execution_count": 0,
   "metadata": {
    "application/vnd.databricks.v1+cell": {
     "cellMetadata": {},
     "inputWidgets": {},
     "nuid": "367bd176-6295-463f-838f-f391546899c8",
     "showTitle": false,
     "tableResultSettingsMap": {},
     "title": ""
    }
   },
   "outputs": [],
   "source": [
    "dlt.create_streaming_table(\n",
    "    name = 'dim_streaming_customer',\n",
    "    table_properties = {\n",
    "    'location': 'abfss://gold@osspstorageaccount.dfs.core.windows.net/dim_table/dim_customer',\n",
    "    'delta.enableChangeDataFeed': 'true',\n",
    "    'delta.autoOptimize.optimizeWrite': 'true',\n",
    "    'delta.autoOptimize.autoCompact': 'true'\n",
    "}\n",
    "    )\n",
    "dlt.apply_changes(\n",
    "        target = 'dim_streaming_customer',\n",
    "        source = 'dim_customer_transformation',\n",
    "        keys = ['CustomerKey'],\n",
    "        sequence_by = 'updated_at',\n",
    "        stored_as_scd_type = 2\n",
    "    )"
   ]
  },
  {
   "cell_type": "code",
   "execution_count": 0,
   "metadata": {
    "application/vnd.databricks.v1+cell": {
     "cellMetadata": {},
     "inputWidgets": {},
     "nuid": "e7b9bec7-0a65-458b-83c6-f99a054461aa",
     "showTitle": false,
     "tableResultSettingsMap": {},
     "title": ""
    }
   },
   "outputs": [],
   "source": [
    "@dlt.table(\n",
    "    name = 'dim_customer'\n",
    ")\n",
    "def dim_customer():\n",
    "    df = spark.read.table('dim_streaming_customer')\n",
    "    return df"
   ]
  },
  {
   "cell_type": "code",
   "execution_count": 0,
   "metadata": {
    "application/vnd.databricks.v1+cell": {
     "cellMetadata": {},
     "inputWidgets": {},
     "nuid": "e5d567c9-5de3-4d0d-aa4f-746df694ea4d",
     "showTitle": false,
     "tableResultSettingsMap": {},
     "title": ""
    }
   },
   "outputs": [],
   "source": [
    "@dlt.view(\n",
    "    name = 'dim_date_transformation',\n",
    ")\n",
    "\n",
    "def dim_date_transformation():\n",
    "    df = spark.readStream.table('date_stagging_table')\n",
    "    df = df.withColumn('sg_datekey',(unix_timestamp(col('updated_at')) * 1000000) + col('DateKey'))\n",
    "    return df"
   ]
  },
  {
   "cell_type": "code",
   "execution_count": 0,
   "metadata": {
    "application/vnd.databricks.v1+cell": {
     "cellMetadata": {},
     "inputWidgets": {},
     "nuid": "ec725992-549c-43a9-a676-99c5588a51bb",
     "showTitle": false,
     "tableResultSettingsMap": {},
     "title": ""
    }
   },
   "outputs": [],
   "source": [
    "dlt.create_streaming_table(\n",
    "    name = 'dim_streaming_date',\n",
    "    table_properties = {\n",
    "    'location': 'abfss://gold@osspstorageaccount.dfs.core.windows.net/dim_table/dim_date',\n",
    "    'delta.enableChangeDataFeed': 'true',\n",
    "    'delta.autoOptimize.optimizeWrite': 'true',\n",
    "    'delta.autoOptimize.autoCompact':'true'\n",
    "    }\n",
    "\n",
    ")\n",
    "dlt.apply_changes(\n",
    "        target = 'dim_streaming_date',\n",
    "        source = 'dim_date_transformation',\n",
    "        keys = ['DateKey'],\n",
    "        sequence_by = 'updated_at',\n",
    "        stored_as_scd_type = 2\n",
    "    )"
   ]
  },
  {
   "cell_type": "code",
   "execution_count": 0,
   "metadata": {
    "application/vnd.databricks.v1+cell": {
     "cellMetadata": {},
     "inputWidgets": {},
     "nuid": "d3b42110-11e3-4642-a5df-abb9c5054144",
     "showTitle": false,
     "tableResultSettingsMap": {},
     "title": ""
    }
   },
   "outputs": [],
   "source": [
    "@dlt.table(\n",
    "    name = 'dim_date'\n",
    ")\n",
    "def dim_date():\n",
    "    df = spark.read.table('dim_streaming_date')\n",
    "    return df"
   ]
  },
  {
   "cell_type": "code",
   "execution_count": 0,
   "metadata": {
    "application/vnd.databricks.v1+cell": {
     "cellMetadata": {},
     "inputWidgets": {},
     "nuid": "e0aa0dbc-1ecf-4cb3-9186-63da6fd3daee",
     "showTitle": false,
     "tableResultSettingsMap": {},
     "title": ""
    }
   },
   "outputs": [],
   "source": [
    "@dlt.view(\n",
    "    name = 'dim_paymentmethod_transformation',\n",
    "\n",
    ")\n",
    "def dim_paymentmethod_transformation():\n",
    "    df = spark.readStream.table('paymentmethod_stagging_table')\n",
    "    df = df.withColumn('sg_paymentmethodkey', (unix_timestamp(col('updated_at'))*1000000) + col('PaymentKey'))\n",
    "    return df\n",
    "\n"
   ]
  },
  {
   "cell_type": "code",
   "execution_count": 0,
   "metadata": {
    "application/vnd.databricks.v1+cell": {
     "cellMetadata": {},
     "inputWidgets": {},
     "nuid": "d453db39-7452-40d8-bd82-377154c683e3",
     "showTitle": false,
     "tableResultSettingsMap": {},
     "title": ""
    }
   },
   "outputs": [],
   "source": [
    "dlt.create_streaming_table(\n",
    "    name = 'dim_streaming_paymentmethod',\n",
    "    table_properties = {\n",
    "    'location': 'abfss://gold@osspstorageaccount.dfs.core.windows.net/dim_table/dim_paymentmethod',\n",
    "    'delta.enableChangeDataFeed':'true',\n",
    "    'delta.autoOptimize.optimizeWrite':'true',\n",
    "    'delta.autoOptimize.autoCompact':'true'\n",
    "} \n",
    ")\n",
    "dlt.apply_changes(\n",
    "        target = 'dim_streaming_paymentmethod',\n",
    "        source = 'dim_paymentmethod_transformation',\n",
    "        keys = ['PaymentKey'],\n",
    "        sequence_by = 'updated_at',\n",
    "        stored_as_scd_type = 2\n",
    "    )"
   ]
  },
  {
   "cell_type": "code",
   "execution_count": 0,
   "metadata": {
    "application/vnd.databricks.v1+cell": {
     "cellMetadata": {},
     "inputWidgets": {},
     "nuid": "7b7564a5-667d-4090-80de-55de1d2725dc",
     "showTitle": false,
     "tableResultSettingsMap": {},
     "title": ""
    }
   },
   "outputs": [],
   "source": [
    "@dlt.table(\n",
    "    name = 'dim_paymentmethod'\n",
    ")\n",
    "def dim_paymentmethod():\n",
    "    df = spark.read.table('dim_streaming_paymentmethod')\n",
    "    return df"
   ]
  },
  {
   "cell_type": "code",
   "execution_count": 0,
   "metadata": {
    "application/vnd.databricks.v1+cell": {
     "cellMetadata": {},
     "inputWidgets": {},
     "nuid": "7319087a-fee7-4f4d-bcd1-6a7221a678f6",
     "showTitle": false,
     "tableResultSettingsMap": {},
     "title": ""
    }
   },
   "outputs": [],
   "source": [
    "@dlt.view(\n",
    "    name = 'dim_product_transformation',\n",
    ")\n",
    "def dim_product_transformation():\n",
    "    df = spark.readStream.table('product_stagging_table')\n",
    "    df = df.withColumn('sg_productkey',(unix_timestamp(col('updated_at'))*1000000) + col('ProductKey'))\n",
    "    return df"
   ]
  },
  {
   "cell_type": "code",
   "execution_count": 0,
   "metadata": {
    "application/vnd.databricks.v1+cell": {
     "cellMetadata": {},
     "inputWidgets": {},
     "nuid": "4cd52f0b-02fb-487d-ab1d-09c6e271e179",
     "showTitle": false,
     "tableResultSettingsMap": {},
     "title": ""
    }
   },
   "outputs": [],
   "source": [
    "dlt.create_streaming_table(\n",
    "    name = 'dim_streaming_product',\n",
    "    table_properties = {\n",
    "        'location': 'abfss://gold@osspstorageaccount.dfs.core.windows.net/dim_table/dim_product',\n",
    "        'delta.enableChangeDataFeed':'true',\n",
    "        'delta.autoOptimize.optimizeWrite':'true',\n",
    "        'delta.autoOptimize.autoCompact':'true'\n",
    "    }\n",
    ")\n",
    "dlt.apply_changes(\n",
    "        target = 'dim_streaming_product',\n",
    "        source = 'dim_product_transformation',\n",
    "        keys = ['ProductKey'],\n",
    "        sequence_by = 'updated_at',\n",
    "        stored_as_scd_type = 2\n",
    "        )"
   ]
  },
  {
   "cell_type": "code",
   "execution_count": 0,
   "metadata": {
    "application/vnd.databricks.v1+cell": {
     "cellMetadata": {},
     "inputWidgets": {},
     "nuid": "5ad31f8b-ea36-4cbd-bc10-29e0344b1166",
     "showTitle": false,
     "tableResultSettingsMap": {},
     "title": ""
    }
   },
   "outputs": [],
   "source": [
    "@dlt.table(\n",
    "    name = 'dim_product'\n",
    ")\n",
    "def dim_product():\n",
    "    df = spark.read.table('dim_streaming_product')\n",
    "    return df"
   ]
  },
  {
   "cell_type": "code",
   "execution_count": 0,
   "metadata": {
    "application/vnd.databricks.v1+cell": {
     "cellMetadata": {},
     "inputWidgets": {},
     "nuid": "a6768a79-a853-4de7-aff3-eafd2a5cb7f4",
     "showTitle": false,
     "tableResultSettingsMap": {},
     "title": ""
    }
   },
   "outputs": [],
   "source": [
    "@dlt.view(\n",
    "    name = 'dim_promotion_transformation',\n",
    ")\n",
    "def dim_promotion_transformation():\n",
    "    df = spark.readStream.table('promotion_stagging_table')\n",
    "    df = df.withColumn('sg_promotionkey',(unix_timestamp(col('updated_at'))*1000000) + col('PromotionKey'))\n",
    "    return df"
   ]
  },
  {
   "cell_type": "code",
   "execution_count": 0,
   "metadata": {
    "application/vnd.databricks.v1+cell": {
     "cellMetadata": {},
     "inputWidgets": {},
     "nuid": "4c2a5b55-cd0c-4c4b-ac4e-7526535e6f6d",
     "showTitle": false,
     "tableResultSettingsMap": {},
     "title": ""
    }
   },
   "outputs": [],
   "source": [
    "dlt.create_streaming_table(\n",
    "    name = 'dim_streaming_promotion',\n",
    "    table_properties = {\n",
    "        'location': 'abfss://gold@osspstorageaccount.dfs.core.windows.net/dim_table/dim_promotion',\n",
    "        'delta.enableChangeDataFeed': 'true',\n",
    "        'delta.autoOptimize.optimizeWrite': 'true',\n",
    "        'delta.autoOptimize.autoCompact': 'true'\n",
    "\n",
    "}\n",
    ")\n",
    "dlt.apply_changes(\n",
    "        target = 'dim_streaming_promotion',\n",
    "        source = 'dim_promotion_transformation',\n",
    "        keys = ['PromotionKey'],\n",
    "        sequence_by = 'updated_at',\n",
    "        stored_as_scd_type = 2\n",
    "    )"
   ]
  },
  {
   "cell_type": "code",
   "execution_count": 0,
   "metadata": {
    "application/vnd.databricks.v1+cell": {
     "cellMetadata": {},
     "inputWidgets": {},
     "nuid": "42379f7f-9874-48d6-8994-7ed56e15ca40",
     "showTitle": false,
     "tableResultSettingsMap": {},
     "title": ""
    }
   },
   "outputs": [],
   "source": [
    "@dlt.table(\n",
    "    name = 'dim_promotion'\n",
    ")\n",
    "def dim_promotion():\n",
    "    df = spark.read.table('dim_streaming_promotion')\n",
    "    return df"
   ]
  },
  {
   "cell_type": "code",
   "execution_count": 0,
   "metadata": {
    "application/vnd.databricks.v1+cell": {
     "cellMetadata": {},
     "inputWidgets": {},
     "nuid": "32029c2d-b368-4299-becd-54669b5ffc6f",
     "showTitle": false,
     "tableResultSettingsMap": {},
     "title": ""
    }
   },
   "outputs": [],
   "source": [
    "@dlt.view(\n",
    "    name = 'dim_region_transformation',\n",
    ")\n",
    "def dim_region_transformation():\n",
    "    df = spark.readStream.table('region_stagging_table')\n",
    "    df = df.withColumn('sg_regionkey',(unix_timestamp(col('updated_at'))*1000000) + col('RegionKey'))\n",
    "    return df"
   ]
  },
  {
   "cell_type": "code",
   "execution_count": 0,
   "metadata": {
    "application/vnd.databricks.v1+cell": {
     "cellMetadata": {},
     "inputWidgets": {},
     "nuid": "316a32f5-c2df-4c2f-abbe-3b777e093ec2",
     "showTitle": false,
     "tableResultSettingsMap": {},
     "title": ""
    }
   },
   "outputs": [],
   "source": [
    "dlt.create_streaming_table(\n",
    "    name = 'dim_streaming_region',\n",
    "    table_properties = {\n",
    "        'location': 'abfss://gold@osspstorageaccount.dfs.core.windows.net/dim_table/dim_region',\n",
    "        'delta.enableChangeDataFeed': 'true',\n",
    "        'delta.autoOptimize.optimizeWrite': 'true',\n",
    "        'delta.autoOptimize.autoCompact': 'true'\n",
    "}\n",
    ")\n",
    "dlt.apply_changes(\n",
    "        target = 'dim_streaming_region',\n",
    "        source = 'dim_region_transformation',\n",
    "        keys = ['RegionKey'],\n",
    "        sequence_by = 'updated_at',\n",
    "        stored_as_scd_type = 2\n",
    "    )"
   ]
  },
  {
   "cell_type": "code",
   "execution_count": 0,
   "metadata": {
    "application/vnd.databricks.v1+cell": {
     "cellMetadata": {},
     "inputWidgets": {},
     "nuid": "a6e19c62-fffe-4512-9ded-a9af9569b133",
     "showTitle": false,
     "tableResultSettingsMap": {},
     "title": ""
    }
   },
   "outputs": [],
   "source": [
    "@dlt.table(\n",
    "    name = 'dim_region'\n",
    ")\n",
    "def dim_region():\n",
    "    df = spark.read.table('dim_streaming_region')\n",
    "    return df"
   ]
  },
  {
   "cell_type": "code",
   "execution_count": 0,
   "metadata": {
    "application/vnd.databricks.v1+cell": {
     "cellMetadata": {},
     "inputWidgets": {},
     "nuid": "1faa967b-d8d1-45e2-b021-a9d71bddbad9",
     "showTitle": false,
     "tableResultSettingsMap": {},
     "title": ""
    }
   },
   "outputs": [],
   "source": [
    "@dlt.view(\n",
    "    name = 'dim_shippingmethod_transformation',\n",
    "\n",
    ")\n",
    "\n",
    "def dim_shippingmethod_transformation():\n",
    "    df = spark.readStream.table('shippingmethod_stagging_table')\n",
    "    df = df.withColumn('sg_shippingmethodkey',(unix_timestamp(col('updated_at'))*1000000) + col('ShippingKey'))\n",
    "    return df\n"
   ]
  },
  {
   "cell_type": "code",
   "execution_count": 0,
   "metadata": {
    "application/vnd.databricks.v1+cell": {
     "cellMetadata": {},
     "inputWidgets": {},
     "nuid": "e0155908-d29d-478b-b6d9-14097a83ea70",
     "showTitle": false,
     "tableResultSettingsMap": {},
     "title": ""
    }
   },
   "outputs": [],
   "source": [
    "dlt.create_streaming_table(\n",
    "    name = 'dim_streaming_shippingmethod',\n",
    "    table_properties = {\n",
    "        'location': 'abfss://gold@osspstorageaccount.dfs.core.windows.net/dim_table/dim_shippingmethod',\n",
    "        'delta.enableChangeDataFeed': 'true',\n",
    "        'delta.autoOptimize.optimizeWrite': 'true',\n",
    "        'delta.autoOptimize.autoCompact': 'true'\n",
    "}\n",
    "\n",
    ")\n",
    "dlt.apply_changes(\n",
    "        target = 'dim_streaming_shippingmethod',\n",
    "        source = 'dim_shippingmethod_transformation',\n",
    "        keys = ['ShippingKey'],\n",
    "        sequence_by = 'updated_at',\n",
    "        stored_as_scd_type = 2\n",
    "    )"
   ]
  },
  {
   "cell_type": "code",
   "execution_count": 0,
   "metadata": {
    "application/vnd.databricks.v1+cell": {
     "cellMetadata": {},
     "inputWidgets": {},
     "nuid": "cde39a8c-9a9f-4a24-8dbf-5379141ce056",
     "showTitle": false,
     "tableResultSettingsMap": {},
     "title": ""
    }
   },
   "outputs": [],
   "source": [
    "@dlt.table(\n",
    "    name = 'dim_shippingmethod'\n",
    ")\n",
    "def dim_shippingmethod():\n",
    "    df = spark.read.table('dim_streaming_shippingmethod')\n",
    "    return df"
   ]
  },
  {
   "cell_type": "code",
   "execution_count": 0,
   "metadata": {
    "application/vnd.databricks.v1+cell": {
     "cellMetadata": {},
     "inputWidgets": {},
     "nuid": "adb31dd1-1d42-4b11-9162-fa6f5b2ba0b9",
     "showTitle": false,
     "tableResultSettingsMap": {},
     "title": ""
    }
   },
   "outputs": [],
   "source": [
    "@dlt.table(\n",
    "    name = 'stagging_fact_table'\n",
    ")\n",
    "def stagging_fact_table():\n",
    "    df = spark.readStream.format('delta').load('abfss://silver@osspstorageaccount.dfs.core.windows.net/factsales')\n",
    "    return df"
   ]
  },
  {
   "cell_type": "code",
   "execution_count": 0,
   "metadata": {
    "application/vnd.databricks.v1+cell": {
     "cellMetadata": {},
     "inputWidgets": {},
     "nuid": "9abcc144-3873-4113-800c-459d81992dcc",
     "showTitle": false,
     "tableResultSettingsMap": {},
     "title": ""
    }
   },
   "outputs": [],
   "source": [
    "@dlt.table(\n",
    "    name = 'fact_sales_transformation'\n",
    ")\n",
    "def fact_sales_transformation():\n",
    "    df = spark.readStream.table('stagging_fact_table')\n",
    "    dim_customer = dlt.read('dim_customer')\n",
    "    dim_date = dlt.read('dim_date')\n",
    "    dim_payment = dlt.read('dim_paymentmethod')\n",
    "    dim_product = dlt.read('dim_product')\n",
    "    dim_promotion = dlt.read('dim_promotion')\n",
    "    dim_region = dlt.read('dim_region')\n",
    "    dim_shipping = dlt.read('dim_shippingmethod')\n",
    "\n",
    "    df = (\n",
    "        df\n",
    "        .join(dim_customer, df.CustomerKey == dim_customer.CustomerKey, 'left')\n",
    "        .join(dim_date, df.DateKey == dim_date.DateKey, 'left')\n",
    "        .join(dim_payment, df.PaymentKey == dim_payment.PaymentKey, 'left')\n",
    "        .join(dim_product, df.ProductKey == dim_product.ProductKey, 'left')\n",
    "        .join(dim_promotion, df.PromotionKey == dim_promotion.PromotionKey, 'left')\n",
    "        .join(dim_region, df.RegionKey == dim_region.RegionKey, 'left')\n",
    "        .join(dim_shipping, df.ShippingKey == dim_shipping.ShippingKey, 'left')\n",
    "    )\n",
    "    df = df.select('SalesKey','sg_customerkey','sg_datekey','sg_paymentmethodkey','sg_productkey','sg_promotionkey','sg_regionkey','sg_shippingmethodkey','Quantity','UnitPrice','TotalRevenue')\n",
    "    df.withColumnRenamed('SalesKey','sg_saleskey').withColumnRenamed('Quantity','quantity').withColumnRenamed('UnitPrice','unitprice').withColumnRenamed('TotalRevenue','totalrevenue')\n",
    "    return df\n"
   ]
  },
  {
   "cell_type": "code",
   "execution_count": 0,
   "metadata": {
    "application/vnd.databricks.v1+cell": {
     "cellMetadata": {},
     "inputWidgets": {},
     "nuid": "28f961cc-0bb7-4508-9790-480f144c299e",
     "showTitle": false,
     "tableResultSettingsMap": {},
     "title": ""
    }
   },
   "outputs": [],
   "source": [
    "@dlt.table(\n",
    "    name = 'fact_sales',\n",
    "    table_properties ={\n",
    "        'location': 'abfss://gold@osspstorageaccount.dfs.core.windows.net/fact_table/fact_sales'\n",
    "    }\n",
    ")\n",
    "def fact_sales():\n",
    "    df = spark.read.table('fact_sales_transformation')\n",
    "    return df"
   ]
  }
 ],
 "metadata": {
  "application/vnd.databricks.v1+notebook": {
   "computePreferences": null,
   "dashboards": [],
   "environmentMetadata": {
    "base_environment": "",
    "environment_version": "2"
   },
   "inputWidgetPreferences": null,
   "language": "python",
   "notebookMetadata": {
    "pythonIndentUnit": 4
   },
   "notebookName": "gold_tables_dlt",
   "widgets": {}
  },
  "language_info": {
   "name": "python"
  }
 },
 "nbformat": 4,
 "nbformat_minor": 0
}